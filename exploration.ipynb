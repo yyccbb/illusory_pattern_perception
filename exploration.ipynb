{
 "cells": [
  {
   "cell_type": "code",
   "id": "initial_id",
   "metadata": {
    "collapsed": true,
    "ExecuteTime": {
     "end_time": "2025-06-17T07:12:11.480947Z",
     "start_time": "2025-06-17T07:12:11.277285Z"
    }
   },
   "source": "import numpy as np",
   "outputs": [],
   "execution_count": 1
  },
  {
   "metadata": {
    "ExecuteTime": {
     "end_time": "2025-06-17T07:14:39.463718Z",
     "start_time": "2025-06-17T07:14:39.459120Z"
    }
   },
   "cell_type": "code",
   "source": [
    "a = [\"aa\", \"ab\", \"ac\"]\n",
    "b = [\"ba\", \"bb\", \"bc\"]\n",
    "print([a] * 2 + [b] * 2)"
   ],
   "id": "c66d4430e960f413",
   "outputs": [
    {
     "name": "stdout",
     "output_type": "stream",
     "text": [
      "[['aa', 'ab', 'ac'], ['aa', 'ab', 'ac'], ['ba', 'bb', 'bc'], ['ba', 'bb', 'bc']]\n"
     ]
    }
   ],
   "execution_count": 2
  },
  {
   "metadata": {
    "ExecuteTime": {
     "end_time": "2025-06-17T07:15:22.003738Z",
     "start_time": "2025-06-17T07:15:22.000251Z"
    }
   },
   "cell_type": "code",
   "source": "print([a] * 2)",
   "id": "7f23f2db8efd2e22",
   "outputs": [
    {
     "name": "stdout",
     "output_type": "stream",
     "text": [
      "[['aa', 'ab', 'ac'], ['aa', 'ab', 'ac']]\n"
     ]
    }
   ],
   "execution_count": 4
  },
  {
   "metadata": {},
   "cell_type": "code",
   "outputs": [],
   "execution_count": null,
   "source": "",
   "id": "3fe56c401c4df8c0"
  }
 ],
 "metadata": {
  "kernelspec": {
   "display_name": "Python 3",
   "language": "python",
   "name": "python3"
  },
  "language_info": {
   "codemirror_mode": {
    "name": "ipython",
    "version": 2
   },
   "file_extension": ".py",
   "mimetype": "text/x-python",
   "name": "python",
   "nbconvert_exporter": "python",
   "pygments_lexer": "ipython2",
   "version": "2.7.6"
  }
 },
 "nbformat": 4,
 "nbformat_minor": 5
}
